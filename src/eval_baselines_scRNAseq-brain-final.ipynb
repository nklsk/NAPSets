{
 "cells": [
  {
   "cell_type": "code",
   "execution_count": 9,
   "id": "daa2c1f3",
   "metadata": {},
   "outputs": [],
   "source": [
    "import pandas as pd\n",
    "import numpy as np\n",
    "import matplotlib.pyplot as plt\n",
    "\n",
    "import anndata\n",
    "import scvi\n",
    "import scanpy as sc\n",
    "\n",
    "from scipy.stats import spearmanr\n",
    "\n",
    "from vaes import *"
   ]
  },
  {
   "cell_type": "code",
   "execution_count": null,
   "id": "79a5be08",
   "metadata": {},
   "outputs": [],
   "source": []
  },
  {
   "cell_type": "code",
   "execution_count": 2,
   "id": "f74828c8",
   "metadata": {},
   "outputs": [
    {
     "name": "stdout",
     "output_type": "stream",
     "text": [
      "\u001b[34mINFO    \u001b[0m Using batches from adata.obs\u001b[1m[\u001b[0m\u001b[32m\"source\"\u001b[0m\u001b[1m]\u001b[0m                                              \n",
      "\u001b[34mINFO    \u001b[0m Using labels from adata.obs\u001b[1m[\u001b[0m\u001b[32m\"Level_3-subclass_label\"\u001b[0m\u001b[1m]\u001b[0m                               \n",
      "\u001b[34mINFO    \u001b[0m Using data from adata.X                                                             \n"
     ]
    },
    {
     "name": "stderr",
     "output_type": "stream",
     "text": [
      "/Users/igor/opt/anaconda3/lib/python3.8/site-packages/pandas/core/arrays/categorical.py:2487: FutureWarning: The `inplace` parameter in pandas.Categorical.remove_unused_categories is deprecated and will be removed in a future version.\n",
      "  res = method(*args, **kwargs)\n",
      "/Users/igor/opt/anaconda3/lib/python3.8/site-packages/sklearn/utils/deprecation.py:86: FutureWarning: Function setup_anndata is deprecated; Please use the model-specific setup_anndata methods instead. The global method will be removed in version 0.15.0.\n",
      "  warnings.warn(msg, category=FutureWarning)\n"
     ]
    },
    {
     "name": "stdout",
     "output_type": "stream",
     "text": [
      "\u001b[34mINFO    \u001b[0m Successfully registered anndata object containing \u001b[1;36m104124\u001b[0m cells, \u001b[1;36m452\u001b[0m vars, \u001b[1;36m2\u001b[0m batches,\n",
      "         \u001b[1;36m43\u001b[0m labels, and \u001b[1;36m0\u001b[0m proteins. Also registered \u001b[1;36m0\u001b[0m extra categorical covariates and \u001b[1;36m0\u001b[0m     \n",
      "         extra continuous covariates.                                                        \n",
      "\u001b[34mINFO    \u001b[0m Please do not further modify adata until model is trained.                          \n"
     ]
    }
   ],
   "source": [
    "ref_a= sc.read_h5ad('../data/scRNAseq-expts/brain_ref.h5ad')\n",
    "inds= []\n",
    "for g,v in ref_a.obs.groupby(['Level_3-subclass_label','source']):\n",
    "    inds.extend(v.index if v.shape[0]<2000 else np.random.choice(v.index, 2000, replace=False))\n",
    "ref_a= ref_a[inds].copy()\n",
    "scvi.data.setup_anndata(ref_a, \n",
    "                        batch_key='source', \n",
    "                        labels_key='Level_3-subclass_label')"
   ]
  },
  {
   "cell_type": "code",
   "execution_count": null,
   "id": "cbfc4cc1",
   "metadata": {
    "scrolled": false
   },
   "outputs": [],
   "source": [
    "# train\n",
    "vae_ref = scvi.model.SCVI(ref_a,\n",
    "                          use_layer_norm=\"both\", \n",
    "                          use_batch_norm=\"none\", \n",
    "                          encode_covariates=True,\n",
    "                          dropout_rate=0.2, \n",
    "                          n_layers=2)\n",
    "vae_ref.train(max_epochs=200)\n",
    "\n",
    "vae_ref_scan = scvi.model.SCANVI.from_scvi_model(vae_ref, unlabeled_category='Unknown')\n",
    "vae_ref_scan.train(max_epochs=20, n_samples_per_label=100)\n",
    "\n",
    "dir_path_scan= '../data/scRNAseq-expts/scVI/level3_ref_model_rpl/'\n",
    "vae_ref_scan.save(dir_path_scan, overwrite=True)"
   ]
  },
  {
   "cell_type": "code",
   "execution_count": null,
   "id": "66fedffd",
   "metadata": {},
   "outputs": [],
   "source": [
    "# eval\n",
    "ref_v= sc.read_h5ad('../data/scRNAseq-expts/brain_query.h5ad')\n",
    "inds= []\n",
    "for g,v in ref_v.obs.groupby(['Level_3-subclass_label','source']):\n",
    "    inds.extend(v.index if v.shape[0]<2000 else np.random.choice(v.index, 2000, replace=False))\n",
    "ref_v= ref_v[inds].copy()\n",
    "\n",
    "dir_path_scan= '../data/scVI/level3_ref_model_rpl/'\n",
    "vae_q = scvi.model.SCANVI.load_query_data(ref_v,dir_path_scan)\n",
    "vae_q._unlabeled_indices = np.arange(ref_v.n_obs)\n",
    "vae_q._labeled_indices = []\n",
    "\n",
    "vae_q.train(max_epochs=100, plan_kwargs=dict(weight_decay=0.0), check_val_every_n_epoch=10)\n",
    "ref_v.obs['preds_scanvi_pst']= vae_q.predict()\n",
    "pst_smp= vae_q.get_normalized_expression(ref_v)\n"
   ]
  },
  {
   "cell_type": "code",
   "execution_count": 4,
   "id": "3d339bc2",
   "metadata": {},
   "outputs": [],
   "source": [
    "vae_q.save('../data/scRNAseq-expts/scVI/brain_annot_l3/', overwrite=True)"
   ]
  },
  {
   "cell_type": "code",
   "execution_count": 3,
   "id": "3ba3185c",
   "metadata": {},
   "outputs": [
    {
     "name": "stdout",
     "output_type": "stream",
     "text": [
      "\u001b[34mINFO    \u001b[0m Using data from adata.X                                                             \n"
     ]
    },
    {
     "name": "stderr",
     "output_type": "stream",
     "text": [
      "/Users/igor/opt/anaconda3/lib/python3.8/site-packages/sklearn/utils/deprecation.py:86: FutureWarning: Function transfer_anndata_setup is deprecated; This method will be removed in 0.15.0. Please avoid building any new dependencies on it.\n",
      "  warnings.warn(msg, category=FutureWarning)\n"
     ]
    },
    {
     "name": "stdout",
     "output_type": "stream",
     "text": [
      "\u001b[34mINFO    \u001b[0m Registered keys:\u001b[1m[\u001b[0m\u001b[32m'X'\u001b[0m, \u001b[32m'batch_indices'\u001b[0m, \u001b[32m'labels'\u001b[0m\u001b[1m]\u001b[0m                                    \n",
      "\u001b[34mINFO    \u001b[0m Successfully registered anndata object containing \u001b[1;36m66579\u001b[0m cells, \u001b[1;36m452\u001b[0m vars, \u001b[1;36m2\u001b[0m batches, \n",
      "         \u001b[1;36m44\u001b[0m labels, and \u001b[1;36m0\u001b[0m proteins. Also registered \u001b[1;36m0\u001b[0m extra categorical covariates and \u001b[1;36m0\u001b[0m     \n",
      "         extra continuous covariates.                                                        \n"
     ]
    }
   ],
   "source": [
    "ref_v= sc.read_h5ad('../data/scRNAseq-expts/brain_query.h5ad')\n",
    "inds= []\n",
    "for g,v in ref_v.obs.groupby(['Level_3-subclass_label','source']):\n",
    "    inds.extend(v.index if v.shape[0]<2000 else np.random.choice(v.index, 2000, replace=False))\n",
    "ref_v= ref_v[inds].copy()\n",
    "\n",
    "vae_q= scvi.model.SCANVI.load('../data/scRNAseq-expts/scVI/brain_annot_l3/', ref_v)\n",
    "ref_v.obs['preds_scanvi_pst']= vae_q.predict()\n",
    "pst_smp= vae_q.get_normalized_expression(ref_v)\n"
   ]
  },
  {
   "cell_type": "code",
   "execution_count": null,
   "id": "fda19d1c",
   "metadata": {},
   "outputs": [],
   "source": []
  },
  {
   "cell_type": "code",
   "execution_count": null,
   "id": "2e23cb2a",
   "metadata": {},
   "outputs": [],
   "source": []
  },
  {
   "cell_type": "code",
   "execution_count": null,
   "id": "bd233f9d",
   "metadata": {},
   "outputs": [],
   "source": []
  },
  {
   "cell_type": "code",
   "execution_count": 4,
   "id": "71492aac",
   "metadata": {},
   "outputs": [
    {
     "data": {
      "application/vnd.jupyter.widget-view+json": {
       "model_id": "340f2136adec4af484e0f29638bf65ee",
       "version_major": 2,
       "version_minor": 0
      },
      "text/plain": [
       "  0%|          | 0/1500 [00:00<?, ?it/s]"
      ]
     },
     "metadata": {},
     "output_type": "display_data"
    },
    {
     "name": "stderr",
     "output_type": "stream",
     "text": [
      "/Users/igor/opt/anaconda3/lib/python3.8/site-packages/pyro/util.py:286: UserWarning: Found non-auxiliary vars in guide but not model, consider marking these infer={'is_auxiliary': True}:\n",
      "{'prx_reg'}\n",
      "  warnings.warn(\n"
     ]
    },
    {
     "name": "stdout",
     "output_type": "stream",
     "text": [
      "0 | elbo: 4.76E+08 | prc: 0.02 | r2: 0.01\n",
      "150 | elbo: 1.17E+08 | prc: 0.04 | r2: 0.10\n",
      "300 | elbo: 2.91E+07 | prc: 0.31 | r2: 0.21\n",
      "450 | elbo: 7.75E+06 | prc: 0.73 | r2: 0.48\n",
      "600 | elbo: 3.18E+06 | prc: 0.85 | r2: 0.66\n",
      "750 | elbo: 1.89E+06 | prc: 0.87 | r2: 0.70\n",
      "900 | elbo: 1.79E+06 | prc: 0.87 | r2: 0.79\n",
      "1050 | elbo: 1.62E+06 | prc: 0.90 | r2: 0.68\n",
      "1200 | elbo: 1.70E+06 | prc: 0.88 | r2: 0.73\n",
      "1350 | elbo: 1.66E+06 | prc: 0.90 | r2: 0.73\n"
     ]
    }
   ],
   "source": [
    "mdl= VAEGamma(ref_a, n_prj=20, probes_per_gene= 90, total_probes=9e4, lblwt=1., beta_p=1.)\n",
    "mdl.train(n_iter= 1500, n_btch=4)"
   ]
  },
  {
   "cell_type": "code",
   "execution_count": 5,
   "id": "ab89ce7f",
   "metadata": {},
   "outputs": [],
   "source": [
    "lbl_str= {s:l for (s,l),_ in ref_a.obs.groupby(['_scvi_labels', 'Level_3-subclass_label'])}\n",
    "ref_v.obs['preds_npst']= [lbl_str[l] for l in mdl.get_assignment({'cts':torch.FloatTensor(ref_v.X.toarray()), 'lbl':None}).tolist()]"
   ]
  },
  {
   "cell_type": "code",
   "execution_count": null,
   "id": "241acba5",
   "metadata": {},
   "outputs": [],
   "source": []
  },
  {
   "cell_type": "code",
   "execution_count": 6,
   "id": "0e31585e",
   "metadata": {},
   "outputs": [],
   "source": [
    "prc_tab= pd.concat([pd.DataFrame([['scanvi', g,(v['Level_3-subclass_label']==g).mean()] for g,v in ref_v.obs.groupby('preds_scanvi_pst')]), \n",
    "                    pd.DataFrame([['napset', g,(v['Level_3-subclass_label']==g).mean()] for g,v in ref_v.obs.groupby('preds_npst')])]).rename({0:'model',1:'cell',2:'precision'},axis=1)\n",
    "rcl_tab= pd.concat([pd.DataFrame([['scanvi', g,(v.preds_scanvi_pst==g).mean()] for g,v in ref_v.obs.groupby('Level_3-subclass_label')]), \n",
    "                    pd.DataFrame([['napset', g,(v.preds_npst==g).mean()] for g,v in ref_v.obs.groupby('Level_3-subclass_label')])]).rename({0:'model',1:'cell',2:'recall'},axis=1)"
   ]
  },
  {
   "cell_type": "code",
   "execution_count": 7,
   "id": "328bf75c",
   "metadata": {},
   "outputs": [],
   "source": [
    "pst_nps= mdl.get_means({'cts':torch.FloatTensor(ref_v.X.toarray()), 'lbl':None})"
   ]
  },
  {
   "cell_type": "code",
   "execution_count": 11,
   "id": "0f7745e1",
   "metadata": {},
   "outputs": [],
   "source": [
    "rc2= []\n",
    "for g,v in ref_v.obs.reset_index().groupby('Level_3-subclass_label'):\n",
    "    r_n= spearmanr(ref_v[v.index].X.toarray().ravel(), \n",
    "                     pst_nps[v.index].detach().numpy().ravel())[0]\n",
    "    r_s= spearmanr(ref_v[v.index].X.toarray().ravel(), \n",
    "                     pst_smp.loc[v.level_0][ref_v.var_names].values.ravel())[0]\n",
    "    rc2.append((g, r_n, r_s))\n",
    "rc2= pd.DataFrame(rc2, columns='celltype npst scvi'.split())"
   ]
  },
  {
   "cell_type": "code",
   "execution_count": 14,
   "id": "c5820775",
   "metadata": {},
   "outputs": [
    {
     "data": {
      "image/png": "[encoded data removed]",
      "text/plain": [
       "<Figure size 1152x360 with 3 Axes>"
      ]
     },
     "metadata": {
      "needs_background": "light"
     },
     "output_type": "display_data"
    }
   ],
   "source": [
    "fig, axs= plt.subplots(ncols=3, figsize= (16,5))\n",
    "\n",
    "rcl_tab.pivot('cell','model','recall').sort_index().plot(kind='bar', legend=False, colormap='Spectral', ax= axs[0])\n",
    "axs[0].set_ylabel('Recall')\n",
    "axs[0].set_xlabel('')\n",
    "\n",
    "prc_tab.pivot('cell','model','precision').sort_index().plot(kind='bar', legend=False, colormap='Spectral', ax= axs[1])\n",
    "axs[1].set_ylabel('Precision')\n",
    "axs[1].set_xlabel('')\n",
    "axs[1].set_title('Brain')\n",
    "\n",
    "rc2.set_index('celltype')[['npst', 'scvi']].plot(kind='bar', legend= False, colormap='Spectral', ax= axs[2])\n",
    "axs[2].set_ylabel('Spearman Correlation')\n",
    "axs[2].set_xlabel('')\n",
    "\n",
    "\n",
    "fig.savefig('../rep/fig3_brain_comp.jpg')"
   ]
  },
  {
   "cell_type": "code",
   "execution_count": null,
   "id": "1eec80c8",
   "metadata": {},
   "outputs": [],
   "source": []
  },
  {
   "cell_type": "code",
   "execution_count": null,
   "id": "66197bd0",
   "metadata": {},
   "outputs": [],
   "source": []
  },
  {
   "cell_type": "code",
   "execution_count": 10,
   "id": "5bde0e60",
   "metadata": {},
   "outputs": [],
   "source": [
    "recon_scanvi_pst.to_csv('../res/brain_scvi_recon.csv', index=False)\n",
    "types_scanvi_pst.to_csv('../res/brain_scvi_types.csv', index=False)"
   ]
  },
  {
   "cell_type": "code",
   "execution_count": null,
   "id": "734ab7d8",
   "metadata": {},
   "outputs": [],
   "source": []
  },
  {
   "cell_type": "code",
   "execution_count": null,
   "id": "959613cf",
   "metadata": {},
   "outputs": [],
   "source": []
  }
 ],
 "metadata": {
  "kernelspec": {
   "display_name": "Python 3",
   "language": "python",
   "name": "python3"
  },
  "language_info": {
   "codemirror_mode": {
    "name": "ipython",
    "version": 3
   },
   "file_extension": ".py",
   "mimetype": "text/x-python",
   "name": "python",
   "nbconvert_exporter": "python",
   "pygments_lexer": "ipython3",
   "version": "3.8.5"
  }
 },
 "nbformat": 4,
 "nbformat_minor": 5
}
