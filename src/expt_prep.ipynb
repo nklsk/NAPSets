{
 "cells": [
  {
   "cell_type": "code",
   "execution_count": 26,
   "id": "939e5254",
   "metadata": {},
   "outputs": [],
   "source": [
    "import matplotlib.pyplot as plt\n",
    "import seaborn as sns\n",
    "import numpy as np\n",
    "import pandas as pd\n",
    "\n",
    "from scipy.sparse import csr_matrix\n",
    "\n",
    "import scanpy as sc\n",
    "import anndata as ad\n",
    "import scvi\n"
   ]
  },
  {
   "cell_type": "code",
   "execution_count": 27,
   "id": "de290736",
   "metadata": {},
   "outputs": [],
   "source": [
    "known_genes= pd.read_csv('../data/goterms/human_go.csv')['Gene name'].unique()\n",
    "known_genes= known_genes[~pd.isna(known_genes)]"
   ]
  },
  {
   "cell_type": "code",
   "execution_count": null,
   "id": "34799a44",
   "metadata": {},
   "outputs": [],
   "source": []
  },
  {
   "cell_type": "code",
   "execution_count": null,
   "id": "164d2ee7",
   "metadata": {},
   "outputs": [],
   "source": []
  },
  {
   "cell_type": "markdown",
   "id": "c516a5d5",
   "metadata": {},
   "source": [
    "### pbmcs"
   ]
  },
  {
   "cell_type": "code",
   "execution_count": 3,
   "id": "eca1672b",
   "metadata": {},
   "outputs": [
    {
     "name": "stdout",
     "output_type": "stream",
     "text": [
      "\u001b[34mINFO    \u001b[0m File data/pbmc_seurat_v4.h5ad already downloaded                                    \n"
     ]
    },
    {
     "name": "stderr",
     "output_type": "stream",
     "text": [
      "/Users/igor/opt/anaconda3/lib/python3.8/site-packages/pandas/core/arrays/categorical.py:2487: FutureWarning: The `inplace` parameter in pandas.Categorical.remove_unused_categories is deprecated and will be removed in a future version.\n",
      "  res = method(*args, **kwargs)\n",
      "/Users/igor/opt/anaconda3/lib/python3.8/site-packages/pandas/core/arrays/categorical.py:2487: FutureWarning: The `inplace` parameter in pandas.Categorical.remove_unused_categories is deprecated and will be removed in a future version.\n",
      "  res = method(*args, **kwargs)\n",
      "/Users/igor/opt/anaconda3/lib/python3.8/site-packages/pandas/core/arrays/categorical.py:2487: FutureWarning: The `inplace` parameter in pandas.Categorical.remove_unused_categories is deprecated and will be removed in a future version.\n",
      "  res = method(*args, **kwargs)\n",
      "/Users/igor/opt/anaconda3/lib/python3.8/site-packages/pandas/core/arrays/categorical.py:2487: FutureWarning: The `inplace` parameter in pandas.Categorical.remove_unused_categories is deprecated and will be removed in a future version.\n",
      "  res = method(*args, **kwargs)\n"
     ]
    },
    {
     "name": "stdout",
     "output_type": "stream",
     "text": [
      "\u001b[34mINFO    \u001b[0m Using batches from adata.obs\u001b[1m[\u001b[0m\u001b[32m\"orig.ident\"\u001b[0m\u001b[1m]\u001b[0m                                          \n",
      "\u001b[34mINFO    \u001b[0m No label_key inputted, assuming all cells have same label                           \n",
      "\u001b[34mINFO    \u001b[0m Using data from adata.X                                                             \n",
      "\u001b[34mINFO    \u001b[0m Using protein expression from adata.obsm\u001b[1m[\u001b[0m\u001b[32m'protein_counts'\u001b[0m\u001b[1m]\u001b[0m                          \n",
      "\u001b[34mINFO    \u001b[0m Using protein names from columns of adata.obsm\u001b[1m[\u001b[0m\u001b[32m'protein_counts'\u001b[0m\u001b[1m]\u001b[0m                    \n",
      "\u001b[34mINFO    \u001b[0m Successfully registered anndata object containing \u001b[1;36m152094\u001b[0m cells, \u001b[1;36m20729\u001b[0m vars, \u001b[1;36m24\u001b[0m      \n",
      "         batches, \u001b[1;36m1\u001b[0m labels, and \u001b[1;36m217\u001b[0m proteins. Also registered \u001b[1;36m0\u001b[0m extra categorical covariates \n",
      "         and \u001b[1;36m0\u001b[0m extra continuous covariates.                                                  \n",
      "\u001b[34mINFO    \u001b[0m Please do not further modify adata until model is trained.                          \n"
     ]
    }
   ],
   "source": [
    "pbmcs= scvi.data.pbmc_seurat_v4_cite_seq()"
   ]
  },
  {
   "cell_type": "code",
   "execution_count": 23,
   "id": "8d42f863",
   "metadata": {},
   "outputs": [
    {
     "name": "stderr",
     "output_type": "stream",
     "text": [
      "Trying to set attribute `.obs` of view, copying.\n",
      "/Users/igor/opt/anaconda3/lib/python3.8/site-packages/scanpy/preprocessing/_highly_variable_genes.py:144: FutureWarning: Slicing a positional slice with .loc is not supported, and will raise TypeError in a future version.  Use .loc with labels or .iloc with positions instead.\n",
      "  df.loc[: int(n_top_genes), 'highly_variable'] = True\n"
     ]
    }
   ],
   "source": [
    "pbmcs.obs= pbmcs.obs[['orig.ident','lane','donor','time','celltype.l1','celltype.l2','celltype.l3','Phase']]\n",
    "pbmcs= pbmcs[:, list(set(pbmcs.var_names) & set(known_genes))]\n",
    "\n",
    "query= set([('P%s'%i, np.random.choice(['0','3','7'])) for i in range(1,9)])\n",
    "query_inds= np.array([(pbmcs.obs.donor[i], pbmcs.obs.time[i]) in query for i in range(pbmcs.shape[0])])\n",
    "pbmcs.obs['batch']= ['%s_%s_%s'%(pbmcs.obs.donor[i], pbmcs.obs.time[i], pbmcs.obs.lane[i]) for i in range(pbmcs.shape[0])]\n",
    "\n",
    "pbmcs_ref= pbmcs[~query_inds].copy()\n",
    "pbmcs_query= pbmcs[query_inds].copy()\n",
    "\n",
    "sc.pp.highly_variable_genes(\n",
    "    pbmcs_ref,\n",
    "    n_top_genes=2000,\n",
    "    batch_key='batch',\n",
    "    flavor='seurat_v3',\n",
    "    subset=True\n",
    ")\n",
    "\n",
    "pbmcs_query = pbmcs_query[:, pbmcs_ref.var_names].copy()\n"
   ]
  },
  {
   "cell_type": "code",
   "execution_count": 31,
   "id": "1cc55705",
   "metadata": {},
   "outputs": [
    {
     "name": "stderr",
     "output_type": "stream",
     "text": [
      "... storing 'batch' as categorical\n",
      "... storing 'batch' as categorical\n"
     ]
    }
   ],
   "source": [
    "pbmcs_ref.write_h5ad('../data/scRNAseq-expts/pbmc_ref.h5ad')\n",
    "pbmcs_query.write_h5ad('../data/scRNAseq-expts/pbmc_query.h5ad')"
   ]
  },
  {
   "cell_type": "code",
   "execution_count": null,
   "id": "783f5414",
   "metadata": {},
   "outputs": [],
   "source": []
  },
  {
   "cell_type": "code",
   "execution_count": null,
   "id": "da626e5a",
   "metadata": {},
   "outputs": [],
   "source": []
  },
  {
   "cell_type": "markdown",
   "id": "f39c6958",
   "metadata": {},
   "source": [
    "### panc\n",
    "https://docs.scvi-tools.org/en/stable/tutorials/notebooks/scarches_scvi_tools.html"
   ]
  },
  {
   "cell_type": "code",
   "execution_count": 32,
   "id": "7fde1b5e",
   "metadata": {},
   "outputs": [
    {
     "name": "stderr",
     "output_type": "stream",
     "text": [
      "/Users/igor/opt/anaconda3/lib/python3.8/site-packages/scanpy/preprocessing/_highly_variable_genes.py:144: FutureWarning: Slicing a positional slice with .loc is not supported, and will raise TypeError in a future version.  Use .loc with labels or .iloc with positions instead.\n",
      "  df.loc[: int(n_top_genes), 'highly_variable'] = True\n"
     ]
    }
   ],
   "source": [
    "url = \"https://figshare.com/ndownloader/files/24539828\"\n",
    "adata= sc.read(\"pancreas.h5ad\", backup_url=url)\n",
    "adata= adata[:, list(set(adata.var_names) & set(known_genes))]\n",
    "adata.X= adata.X.round()\n",
    "query= np.array([s in [\"smartseq2\", \"celseq2\"] for s in adata.obs.tech])\n",
    "\n",
    "adata_ref = adata[~query].copy()\n",
    "adata_query = adata[query].copy()\n",
    "\n",
    "sc.pp.highly_variable_genes(\n",
    "    adata_ref,\n",
    "    n_top_genes=2000,\n",
    "    batch_key=\"tech\",\n",
    "    flavor='seurat_v3',\n",
    "    subset=True\n",
    ")\n",
    "\n",
    "adata_query = adata_query[:, adata_ref.var_names].copy()\n"
   ]
  },
  {
   "cell_type": "code",
   "execution_count": 35,
   "id": "9994a60c",
   "metadata": {},
   "outputs": [],
   "source": [
    "adata_ref.write_h5ad('../data/scRNAseq-expts/panc_ref.h5ad')\n",
    "adata_query.write_h5ad('../data/scRNAseq-expts/panc_query.h5ad')"
   ]
  },
  {
   "cell_type": "code",
   "execution_count": null,
   "id": "cd9a1d85",
   "metadata": {},
   "outputs": [],
   "source": []
  },
  {
   "cell_type": "code",
   "execution_count": null,
   "id": "e28a7947",
   "metadata": {},
   "outputs": [],
   "source": []
  },
  {
   "cell_type": "markdown",
   "id": "dc52f68c",
   "metadata": {},
   "source": [
    "### brain"
   ]
  },
  {
   "cell_type": "code",
   "execution_count": 4,
   "id": "72f4257a",
   "metadata": {},
   "outputs": [],
   "source": [
    "path_dict= {'tenx': '../data/vizgen/Allen_10X_2020.gzip',\n",
    "            'smrt': '../data/vizgen/Allen_SmartSeq_2020.gzip',\n",
    "            'vzgn': '../data/vizgen/Vizgen_MERFISH.gzip'}\n",
    "tenx= pd.read_parquet(path_dict['tenx']).reset_index()\n",
    "smrt= pd.read_parquet(path_dict['smrt']).reset_index()\n",
    "vzgn= pd.read_parquet(path_dict['vzgn']).reset_index()"
   ]
  },
  {
   "cell_type": "code",
   "execution_count": 5,
   "id": "f0c655a1",
   "metadata": {},
   "outputs": [],
   "source": [
    "index_cols= ['source', 'level_0', 'Level_3-subclass_label', 'Level_5-cluster_label', 'size']\n",
    "shared_genes= sorted((set(tenx.columns) & set(vzgn.columns) & set(smrt.columns)) - set(index_cols))"
   ]
  },
  {
   "cell_type": "code",
   "execution_count": 17,
   "id": "6b1a732f",
   "metadata": {},
   "outputs": [],
   "source": [
    "tenx['source']= '10X'\n",
    "smrt['source']= 'SmartSeq'"
   ]
  },
  {
   "cell_type": "code",
   "execution_count": 42,
   "id": "12ec128e",
   "metadata": {},
   "outputs": [],
   "source": [
    "ref_full= ad.concat([ad.AnnData(csr_matrix(tenx[shared_genes].values), \n",
    "                                obs=tenx[index_cols].set_index('level_0'), \n",
    "                                var= pd.DataFrame(index=shared_genes)), \n",
    "                     ad.AnnData(csr_matrix(smrt[shared_genes].values), \n",
    "                                obs=smrt[index_cols].set_index('level_0'), \n",
    "                                var= pd.DataFrame(index=shared_genes))])\n"
   ]
  },
  {
   "cell_type": "code",
   "execution_count": 59,
   "id": "2c107137",
   "metadata": {},
   "outputs": [],
   "source": [
    "train_inds= []\n",
    "valid_inds= []\n",
    "for (src,l3),v in ref_full.obs.groupby(['source', 'Level_3-subclass_label']):\n",
    "    for l5,v2 in v.groupby('Level_5-cluster_label'):\n",
    "        inds= list(v2.index)\n",
    "        train= np.random.choice(inds, int(len(inds)*.8), replace=False)\n",
    "        train_inds.extend(train)\n",
    "        valid_inds.extend(set(inds)-set(train))\n"
   ]
  },
  {
   "cell_type": "code",
   "execution_count": null,
   "id": "07bd7676",
   "metadata": {},
   "outputs": [],
   "source": []
  },
  {
   "cell_type": "code",
   "execution_count": null,
   "id": "5af05e15",
   "metadata": {},
   "outputs": [],
   "source": []
  },
  {
   "cell_type": "code",
   "execution_count": 154,
   "id": "5695f6e4",
   "metadata": {},
   "outputs": [
    {
     "name": "stderr",
     "output_type": "stream",
     "text": [
      "/Users/igor/opt/anaconda3/lib/python3.8/site-packages/anndata/_core/anndata.py:119: ImplicitModificationWarning: Transforming to str index.\n",
      "  warnings.warn(\"Transforming to str index.\", ImplicitModificationWarning)\n"
     ]
    }
   ],
   "source": [
    "brain_merfish= ad.AnnData(csr_matrix(vzgn[shared_genes].values),\n",
    "                          obs=vzgn.iloc[:,:11],\n",
    "                          var= pd.DataFrame(index=shared_genes))"
   ]
  },
  {
   "cell_type": "code",
   "execution_count": 156,
   "id": "3513a632",
   "metadata": {},
   "outputs": [
    {
     "name": "stderr",
     "output_type": "stream",
     "text": [
      "... storing 'source' as categorical\n",
      "... storing 'Level_3-subclass_label' as categorical\n",
      "... storing 'Level_5-cluster_label' as categorical\n",
      "... storing 'source' as categorical\n",
      "... storing 'Level_3-subclass_label' as categorical\n",
      "... storing 'Level_5-cluster_label' as categorical\n",
      "... storing 'slice' as categorical\n",
      "... storing 'replicate' as categorical\n"
     ]
    }
   ],
   "source": [
    "ref_full[train_inds].write_h5ad('../data/scRNAseq-expts/brain_ref.h5ad')\n",
    "brain_query.write_h5ad('../data/scRNAseq-expts/brain_query.h5ad')\n",
    "brain_merfish.write_h5ad('../data/scRNAseq-expts/brain_merfish.h5ad')"
   ]
  },
  {
   "cell_type": "code",
   "execution_count": null,
   "id": "64f97354",
   "metadata": {},
   "outputs": [],
   "source": []
  },
  {
   "cell_type": "code",
   "execution_count": null,
   "id": "4c46e9b4",
   "metadata": {},
   "outputs": [],
   "source": []
  },
  {
   "cell_type": "code",
   "execution_count": null,
   "id": "bf5bd8a0",
   "metadata": {},
   "outputs": [],
   "source": []
  },
  {
   "cell_type": "code",
   "execution_count": null,
   "id": "c0edf9ac",
   "metadata": {},
   "outputs": [],
   "source": []
  }
 ],
 "metadata": {
  "kernelspec": {
   "display_name": "Python 3",
   "language": "python",
   "name": "python3"
  },
  "language_info": {
   "codemirror_mode": {
    "name": "ipython",
    "version": 3
   },
   "file_extension": ".py",
   "mimetype": "text/x-python",
   "name": "python",
   "nbconvert_exporter": "python",
   "pygments_lexer": "ipython3",
   "version": "3.8.5"
  }
 },
 "nbformat": 4,
 "nbformat_minor": 5
}
