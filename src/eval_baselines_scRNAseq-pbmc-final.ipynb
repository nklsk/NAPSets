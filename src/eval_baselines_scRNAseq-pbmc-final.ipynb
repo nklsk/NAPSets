{
 "cells": [
  {
   "cell_type": "code",
   "execution_count": 1,
   "id": "daa2c1f3",
   "metadata": {},
   "outputs": [
    {
     "name": "stderr",
     "output_type": "stream",
     "text": [
      "Global seed set to 0\n"
     ]
    }
   ],
   "source": [
    "import pandas as pd\n",
    "import numpy as np\n",
    "import matplotlib.pyplot as plt\n",
    "\n",
    "import anndata\n",
    "import scvi\n",
    "import scanpy as sc\n",
    "\n",
    "from scipy.stats import spearmanr\n",
    "\n",
    "from vaes import *"
   ]
  },
  {
   "cell_type": "code",
   "execution_count": null,
   "id": "b401dd83",
   "metadata": {},
   "outputs": [],
   "source": []
  },
  {
   "cell_type": "markdown",
   "id": "dbacfad3",
   "metadata": {},
   "source": [
    "https://docs.scvi-tools.org/en/stable/tutorials/notebooks/scarches_scvi_tools.html"
   ]
  },
  {
   "cell_type": "code",
   "execution_count": 2,
   "id": "6c8c0d56",
   "metadata": {},
   "outputs": [
    {
     "name": "stdout",
     "output_type": "stream",
     "text": [
      "\u001b[34mINFO    \u001b[0m Using batches from adata.obs\u001b[1m[\u001b[0m\u001b[32m\"orig.ident\"\u001b[0m\u001b[1m]\u001b[0m                                          \n",
      "\u001b[34mINFO    \u001b[0m Using labels from adata.obs\u001b[1m[\u001b[0m\u001b[32m\"celltype.l2\"\u001b[0m\u001b[1m]\u001b[0m                                          \n",
      "\u001b[34mINFO    \u001b[0m Using data from adata.X                                                             \n"
     ]
    },
    {
     "name": "stderr",
     "output_type": "stream",
     "text": [
      "/Users/igor/opt/anaconda3/lib/python3.8/site-packages/sklearn/utils/deprecation.py:86: FutureWarning: Function setup_anndata is deprecated; Please use the model-specific setup_anndata methods instead. The global method will be removed in version 0.15.0.\n",
      "  warnings.warn(msg, category=FutureWarning)\n"
     ]
    },
    {
     "name": "stdout",
     "output_type": "stream",
     "text": [
      "\u001b[34mINFO    \u001b[0m Successfully registered anndata object containing \u001b[1;36m101089\u001b[0m cells, \u001b[1;36m2000\u001b[0m vars, \u001b[1;36m16\u001b[0m       \n",
      "         batches, \u001b[1;36m30\u001b[0m labels, and \u001b[1;36m0\u001b[0m proteins. Also registered \u001b[1;36m0\u001b[0m extra categorical covariates  \n",
      "         and \u001b[1;36m0\u001b[0m extra continuous covariates.                                                  \n",
      "\u001b[34mINFO    \u001b[0m Please do not further modify adata until model is trained.                          \n"
     ]
    }
   ],
   "source": [
    "ref_a= sc.read_h5ad('../data/scRNAseq-expts/pbmc_ref.h5ad')\n",
    "scvi.data.setup_anndata(ref_a, \n",
    "                        batch_key='orig.ident', \n",
    "                        labels_key='celltype.l2')"
   ]
  },
  {
   "cell_type": "code",
   "execution_count": 3,
   "id": "cbfc4cc1",
   "metadata": {
    "scrolled": false
   },
   "outputs": [
    {
     "name": "stdout",
     "output_type": "stream",
     "text": [
      "\u001b[34mINFO    \u001b[0m Using batches from adata.obs\u001b[1m[\u001b[0m\u001b[32m\"orig.ident\"\u001b[0m\u001b[1m]\u001b[0m                                          \n",
      "\u001b[34mINFO    \u001b[0m Using labels from adata.obs\u001b[1m[\u001b[0m\u001b[32m\"celltype.l2\"\u001b[0m\u001b[1m]\u001b[0m                                          \n",
      "\u001b[34mINFO    \u001b[0m Using data from adata.X                                                             \n"
     ]
    },
    {
     "name": "stderr",
     "output_type": "stream",
     "text": [
      "/Users/igor/opt/anaconda3/lib/python3.8/site-packages/sklearn/utils/deprecation.py:86: FutureWarning: Function setup_anndata is deprecated; Please use the model-specific setup_anndata methods instead. The global method will be removed in version 0.15.0.\n",
      "  warnings.warn(msg, category=FutureWarning)\n"
     ]
    },
    {
     "name": "stdout",
     "output_type": "stream",
     "text": [
      "\u001b[34mINFO    \u001b[0m Successfully registered anndata object containing \u001b[1;36m101089\u001b[0m cells, \u001b[1;36m2000\u001b[0m vars, \u001b[1;36m16\u001b[0m       \n",
      "         batches, \u001b[1;36m30\u001b[0m labels, and \u001b[1;36m0\u001b[0m proteins. Also registered \u001b[1;36m0\u001b[0m extra categorical covariates  \n",
      "         and \u001b[1;36m0\u001b[0m extra continuous covariates.                                                  \n",
      "\u001b[34mINFO    \u001b[0m Please do not further modify adata until model is trained.                          \n"
     ]
    },
    {
     "name": "stderr",
     "output_type": "stream",
     "text": [
      "GPU available: False, used: False\n",
      "TPU available: False, using: 0 TPU cores\n"
     ]
    },
    {
     "name": "stdout",
     "output_type": "stream",
     "text": [
      "Epoch 200/200: 100%|██████████| 200/200 [2:07:40<00:00, 38.30s/it, loss=751, v_num=1]  \n",
      "\u001b[34mINFO    \u001b[0m Training for \u001b[1;36m20\u001b[0m epochs.                                                             \n"
     ]
    },
    {
     "name": "stderr",
     "output_type": "stream",
     "text": [
      "GPU available: False, used: False\n",
      "TPU available: False, using: 0 TPU cores\n"
     ]
    },
    {
     "name": "stdout",
     "output_type": "stream",
     "text": [
      "Epoch 20/20: 100%|██████████| 20/20 [28:41<00:00, 86.08s/it, loss=876, v_num=1]\n"
     ]
    }
   ],
   "source": [
    "# train\n",
    "vae_ref = scvi.model.SCVI(ref_a,\n",
    "                          use_layer_norm=\"both\", \n",
    "                          use_batch_norm=\"none\", \n",
    "                          encode_covariates=True,\n",
    "                          dropout_rate=0.2, \n",
    "                          n_layers=2)\n",
    "vae_ref.train(max_epochs=200)\n",
    "\n",
    "vae_ref_scan = scvi.model.SCANVI.from_scvi_model(vae_ref, unlabeled_category='Unknown')\n",
    "vae_ref_scan.train(max_epochs=20, n_samples_per_label=100)\n",
    "\n",
    "dir_path_scan= '../data/scRNAseq-expts/scVI/pbmc2/'\n",
    "vae_ref_scan.save(dir_path_scan, overwrite=True)"
   ]
  },
  {
   "cell_type": "code",
   "execution_count": 4,
   "id": "66fedffd",
   "metadata": {},
   "outputs": [
    {
     "name": "stdout",
     "output_type": "stream",
     "text": [
      "\u001b[34mINFO    \u001b[0m Using data from adata.X                                                             \n"
     ]
    },
    {
     "name": "stderr",
     "output_type": "stream",
     "text": [
      "/Users/igor/opt/anaconda3/lib/python3.8/site-packages/scvi/model/base/_archesmixin.py:95: UserWarning: Query integration should be performed using models trained with version >= 0.8\n",
      "  warnings.warn(\n",
      "/Users/igor/opt/anaconda3/lib/python3.8/site-packages/sklearn/utils/deprecation.py:86: FutureWarning: Function transfer_anndata_setup is deprecated; This method will be removed in 0.15.0. Please avoid building any new dependencies on it.\n",
      "  warnings.warn(msg, category=FutureWarning)\n"
     ]
    },
    {
     "name": "stdout",
     "output_type": "stream",
     "text": [
      "\u001b[34mINFO    \u001b[0m Registered keys:\u001b[1m[\u001b[0m\u001b[32m'X'\u001b[0m, \u001b[32m'batch_indices'\u001b[0m, \u001b[32m'labels'\u001b[0m\u001b[1m]\u001b[0m                                    \n",
      "\u001b[34mINFO    \u001b[0m Successfully registered anndata object containing \u001b[1;36m51005\u001b[0m cells, \u001b[1;36m2000\u001b[0m vars, \u001b[1;36m24\u001b[0m        \n",
      "         batches, \u001b[1;36m30\u001b[0m labels, and \u001b[1;36m0\u001b[0m proteins. Also registered \u001b[1;36m0\u001b[0m extra categorical covariates  \n",
      "         and \u001b[1;36m0\u001b[0m extra continuous covariates.                                                  \n",
      "\u001b[34mINFO    \u001b[0m Training for \u001b[1;36m100\u001b[0m epochs.                                                            \n"
     ]
    },
    {
     "name": "stderr",
     "output_type": "stream",
     "text": [
      "GPU available: False, used: False\n",
      "TPU available: False, using: 0 TPU cores\n"
     ]
    },
    {
     "name": "stdout",
     "output_type": "stream",
     "text": [
      "Epoch 100/100: 100%|██████████| 100/100 [55:33<00:00, 33.33s/it, loss=883, v_num=1]\n"
     ]
    }
   ],
   "source": [
    "# evals\n",
    "ref_v= sc.read_h5ad('../data/scRNAseq-expts/pbmc_query.h5ad')\n",
    "dir_path_scan= '../data/scRNAseq-expts/scVI/pbmc2/'\n",
    "vae_q = scvi.model.SCANVI.load_query_data(ref_v,dir_path_scan)\n",
    "vae_q._unlabeled_indices = np.arange(ref_v.n_obs)\n",
    "vae_q._labeled_indices = []\n",
    "\n",
    "vae_q.train(max_epochs=100, plan_kwargs=dict(weight_decay=0.0), check_val_every_n_epoch=10)\n",
    "ref_v.obs['preds_scanvi_pst']= vae_q.predict()\n",
    "pst_smp= vae_q.posterior_predictive_sample(ref_v)\n"
   ]
  },
  {
   "cell_type": "code",
   "execution_count": 5,
   "id": "469abd65",
   "metadata": {},
   "outputs": [],
   "source": [
    "vae_q.save('../data/scRNAseq-expts/scVI/pbmc_annot_l2/', overwrite=True)"
   ]
  },
  {
   "cell_type": "code",
   "execution_count": 3,
   "id": "3659e674",
   "metadata": {},
   "outputs": [
    {
     "name": "stdout",
     "output_type": "stream",
     "text": [
      "\u001b[34mINFO    \u001b[0m Using data from adata.X                                                             \n"
     ]
    },
    {
     "name": "stderr",
     "output_type": "stream",
     "text": [
      "/Users/igor/opt/anaconda3/lib/python3.8/site-packages/sklearn/utils/deprecation.py:86: FutureWarning: Function transfer_anndata_setup is deprecated; This method will be removed in 0.15.0. Please avoid building any new dependencies on it.\n",
      "  warnings.warn(msg, category=FutureWarning)\n"
     ]
    },
    {
     "name": "stdout",
     "output_type": "stream",
     "text": [
      "\u001b[34mINFO    \u001b[0m Registered keys:\u001b[1m[\u001b[0m\u001b[32m'X'\u001b[0m, \u001b[32m'batch_indices'\u001b[0m, \u001b[32m'labels'\u001b[0m\u001b[1m]\u001b[0m                                    \n",
      "\u001b[34mINFO    \u001b[0m Successfully registered anndata object containing \u001b[1;36m51005\u001b[0m cells, \u001b[1;36m2000\u001b[0m vars, \u001b[1;36m24\u001b[0m        \n",
      "         batches, \u001b[1;36m30\u001b[0m labels, and \u001b[1;36m0\u001b[0m proteins. Also registered \u001b[1;36m0\u001b[0m extra categorical covariates  \n",
      "         and \u001b[1;36m0\u001b[0m extra continuous covariates.                                                  \n"
     ]
    }
   ],
   "source": [
    "ref_v= sc.read_h5ad('../data/scRNAseq-expts/pbmc_query.h5ad')\n",
    "vae_q= scvi.model.SCANVI.load('../data/scRNAseq-expts/scVI/pbmc_annot_l2/', ref_v)\n",
    "ref_v.obs['preds_scanvi_pst']= vae_q.predict()\n",
    "pst_smp= vae_q.get_normalized_expression(ref_v).values"
   ]
  },
  {
   "cell_type": "code",
   "execution_count": null,
   "id": "c1e81329",
   "metadata": {},
   "outputs": [],
   "source": []
  },
  {
   "cell_type": "code",
   "execution_count": null,
   "id": "044e0dc1",
   "metadata": {},
   "outputs": [],
   "source": []
  },
  {
   "cell_type": "code",
   "execution_count": null,
   "id": "157e255e",
   "metadata": {},
   "outputs": [],
   "source": []
  },
  {
   "cell_type": "code",
   "execution_count": 4,
   "id": "ccb17f3b",
   "metadata": {},
   "outputs": [
    {
     "data": {
      "application/vnd.jupyter.widget-view+json": {
       "model_id": "bd71f679482b4dc0bda88f39555248d2",
       "version_major": 2,
       "version_minor": 0
      },
      "text/plain": [
       "  0%|          | 0/1500 [00:00<?, ?it/s]"
      ]
     },
     "metadata": {},
     "output_type": "display_data"
    },
    {
     "name": "stderr",
     "output_type": "stream",
     "text": [
      "/Users/igor/opt/anaconda3/lib/python3.8/site-packages/pandas/core/arrays/categorical.py:2487: FutureWarning: The `inplace` parameter in pandas.Categorical.remove_unused_categories is deprecated and will be removed in a future version.\n",
      "  res = method(*args, **kwargs)\n",
      "/Users/igor/opt/anaconda3/lib/python3.8/site-packages/pyro/util.py:286: UserWarning: Found non-auxiliary vars in guide but not model, consider marking these infer={'is_auxiliary': True}:\n",
      "{'prx_reg'}\n",
      "  warnings.warn(\n"
     ]
    },
    {
     "name": "stdout",
     "output_type": "stream",
     "text": [
      "0 | elbo: 2.14E+08 | prc: 0.03 | r2: 0.00\n",
      "150 | elbo: 2.37E+07 | prc: 0.10 | r2: 0.05\n",
      "300 | elbo: 6.39E+06 | prc: 0.58 | r2: 0.28\n",
      "450 | elbo: 3.55E+06 | prc: 0.89 | r2: 0.78\n",
      "600 | elbo: 2.80E+06 | prc: 0.93 | r2: 0.91\n",
      "750 | elbo: 2.51E+06 | prc: 0.94 | r2: 0.94\n",
      "900 | elbo: 2.47E+06 | prc: 0.95 | r2: 0.95\n",
      "1050 | elbo: 2.47E+06 | prc: 0.96 | r2: 0.91\n",
      "1200 | elbo: 2.42E+06 | prc: 0.96 | r2: 0.91\n",
      "1350 | elbo: 2.44E+06 | prc: 0.96 | r2: 0.94\n"
     ]
    }
   ],
   "source": [
    "mdl= VAEGamma(ref_a, n_prj=18, probes_per_gene= 80, total_probes=5e4, lblwt=.5)\n",
    "mdl.train(n_iter= 1500, n_btch=4)"
   ]
  },
  {
   "cell_type": "code",
   "execution_count": 5,
   "id": "451b686b",
   "metadata": {},
   "outputs": [],
   "source": [
    "lbl_str= {s:l for (s,l),_ in ref_a.obs.groupby(['_scvi_labels', 'celltype.l2'])}\n",
    "ref_v.obs['preds_npst']= [lbl_str[l] for l in mdl.get_assignment({'cts':torch.FloatTensor(ref_v.X.toarray()), 'lbl':None}).tolist()]"
   ]
  },
  {
   "cell_type": "code",
   "execution_count": null,
   "id": "544cc56a",
   "metadata": {},
   "outputs": [],
   "source": []
  },
  {
   "cell_type": "code",
   "execution_count": 6,
   "id": "2a2d24b9",
   "metadata": {},
   "outputs": [],
   "source": [
    "prc_tab= pd.concat([pd.DataFrame([['scanvi', g,(v['celltype.l2']==g).mean()] for g,v in ref_v.obs.groupby('preds_scanvi_pst')]), \n",
    "                    pd.DataFrame([['napset', g,(v['celltype.l2']==g).mean()] for g,v in ref_v.obs.groupby('preds_npst')])]).rename({0:'model',1:'cell',2:'precision'},axis=1)\n",
    "rcl_tab= pd.concat([pd.DataFrame([['scanvi', g,(v.preds_scanvi_pst==g).mean()] for g,v in ref_v.obs.groupby('celltype.l2')]), \n",
    "                    pd.DataFrame([['napset', g,(v.preds_npst==g).mean()] for g,v in ref_v.obs.groupby('celltype.l2')])]).rename({0:'model',1:'cell',2:'recall'},axis=1)"
   ]
  },
  {
   "cell_type": "code",
   "execution_count": 7,
   "id": "6c78082a",
   "metadata": {},
   "outputs": [],
   "source": [
    "pst_nps= mdl.get_means({'cts':torch.FloatTensor(ref_v.X.toarray()), 'lbl':None})"
   ]
  },
  {
   "cell_type": "code",
   "execution_count": 9,
   "id": "b4e49281",
   "metadata": {
    "scrolled": true
   },
   "outputs": [],
   "source": [
    "rc2= []\n",
    "for g,v in ref_v.obs.reset_index().groupby('celltype.l2'):\n",
    "    r_n= spearmanr(ref_v[v.index].X.toarray().ravel(), \n",
    "                   pst_nps[v.index].detach().numpy().ravel())[0]\n",
    "    r_s= spearmanr(ref_v[v.index].X.toarray().ravel(), \n",
    "                     pst_smp[v.index].ravel())[0]\n",
    "    rc2.append((g, r_n, r_s))\n",
    "rc2= pd.DataFrame(rc2, columns='celltype npst scvi'.split())"
   ]
  },
  {
   "cell_type": "code",
   "execution_count": 11,
   "id": "326a0a22",
   "metadata": {},
   "outputs": [
    {
     "data": {
      "image/png": "[encoded data removed]",
      "text/plain": [
       "<Figure size 1152x360 with 3 Axes>"
      ]
     },
     "metadata": {
      "needs_background": "light"
     },
     "output_type": "display_data"
    }
   ],
   "source": [
    "fig, axs= plt.subplots(ncols=3, figsize= (16,5))\n",
    "\n",
    "rcl_tab.pivot('cell','model','recall').sort_index().plot(kind='bar', legend=False, colormap='Spectral', ax= axs[0])\n",
    "axs[0].set_ylabel('Recall')\n",
    "axs[0].set_xlabel('')\n",
    "\n",
    "prc_tab.pivot('cell','model','precision').sort_index().plot(kind='bar', legend=False, colormap='Spectral', ax= axs[1])\n",
    "axs[1].set_ylabel('Precision')\n",
    "axs[1].set_xlabel('')\n",
    "axs[1].set_title('PBMC')\n",
    "\n",
    "rc2.set_index('celltype')[['npst', 'scvi']].plot(kind='bar', legend= False, colormap='Spectral', ax= axs[2])\n",
    "axs[2].set_ylabel('Spearman Correlation')\n",
    "axs[2].set_xlabel('')\n",
    "\n",
    "fig.savefig('../rep/fig3_pbmc_comp.jpg')"
   ]
  },
  {
   "cell_type": "code",
   "execution_count": null,
   "id": "7378f254",
   "metadata": {},
   "outputs": [],
   "source": []
  },
  {
   "cell_type": "code",
   "execution_count": null,
   "id": "3475e073",
   "metadata": {},
   "outputs": [],
   "source": []
  },
  {
   "cell_type": "code",
   "execution_count": 23,
   "id": "41599532",
   "metadata": {},
   "outputs": [],
   "source": [
    "recon_test.to_csv('../res/pbmc_l2_npst_recon.csv', index=False)\n",
    "types_test.to_csv('../res/pbmc_l2_npst_types.csv', index=False)\n",
    "recon_scanvi_pst.to_csv('../res/pbmc_l2_scvi_recon.csv', index=False)\n",
    "types_scanvi_pst.to_csv('../res/pbmc_l2_scvi_types.csv', index=False)"
   ]
  },
  {
   "cell_type": "code",
   "execution_count": null,
   "id": "cbb4d656",
   "metadata": {},
   "outputs": [],
   "source": []
  },
  {
   "cell_type": "code",
   "execution_count": null,
   "id": "4ac67edd",
   "metadata": {},
   "outputs": [],
   "source": []
  }
 ],
 "metadata": {
  "kernelspec": {
   "display_name": "Python 3",
   "language": "python",
   "name": "python3"
  },
  "language_info": {
   "codemirror_mode": {
    "name": "ipython",
    "version": 3
   },
   "file_extension": ".py",
   "mimetype": "text/x-python",
   "name": "python",
   "nbconvert_exporter": "python",
   "pygments_lexer": "ipython3",
   "version": "3.8.5"
  }
 },
 "nbformat": 4,
 "nbformat_minor": 5
}
